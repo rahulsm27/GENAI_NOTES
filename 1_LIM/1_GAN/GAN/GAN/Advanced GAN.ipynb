{
 "cells": [
  {
   "cell_type": "code",
   "execution_count": 3,
   "metadata": {},
   "outputs": [
    {
     "name": "stderr",
     "output_type": "stream",
     "text": [
      "/Library/Frameworks/Python.framework/Versions/3.11/lib/python3.11/site-packages/tqdm/auto.py:21: TqdmWarning: IProgress not found. Please update jupyter and ipywidgets. See https://ipywidgets.readthedocs.io/en/stable/user_install.html\n",
      "  from .autonotebook import tqdm as notebook_tqdm\n"
     ]
    }
   ],
   "source": [
    "# importing libraries\n",
    "\n",
    "import torch, torchvision, os, PIL, pdb\n",
    "from torch import nn \n",
    "from torch.utils.data import Dataset\n",
    "from torch.utils.data import dataloader\n",
    "from torchvision import transforms\n",
    "from torchvision.utils import make_grid\n",
    "from tqdm.auto import tqdm\n",
    "from PIL import Image\n",
    "import matplotlib.pyplot as plt \n",
    "\n",
    "def show(tensor, num=25, wandb=0, name=''):\n",
    "    data = tensor.detach().cpu()\n",
    "    grid = make_grid(data[:num], nrow = 5).permute(1,2,0)\n",
    "\n",
    "    if(wandb==1 and wandbact==1):\n",
    "        wandb.log({name:wandb.Image(grid.numpy().clip(0,1))})\n",
    "\n",
    "    plt.imshow(grid.clip(0,1))\n",
    "    plt.show()\n",
    "\n",
    "\n",
    "n_epochs = 500\n",
    "batch_size = 128\n",
    "lr = 1e-4\n",
    "z_dim = 200\n",
    "device = 'cuda'\n",
    "\n",
    "\n",
    "cur_step = 0\n",
    "crit_cycles = 5\n",
    "gen_losses = []\n",
    "crit_losses = []\n",
    "\n",
    "show_stemp = 35\n",
    "save_step = 35 # checkpoint\n",
    "\n",
    "wandbact= 1\n",
    "\n",
    "\n",
    "\n",
    "\n",
    "\n",
    "\n",
    "\n",
    "\n",
    "\n",
    "\n",
    "\n"
   ]
  },
  {
   "cell_type": "code",
   "execution_count": 4,
   "metadata": {},
   "outputs": [],
   "source": [
    "#!pip3 install wandb -qqq\n"
   ]
  },
  {
   "cell_type": "code",
   "execution_count": 5,
   "metadata": {},
   "outputs": [
    {
     "name": "stderr",
     "output_type": "stream",
     "text": [
      "Failed to detect the name of this notebook, you can set it manually with the WANDB_NOTEBOOK_NAME environment variable to enable code saving.\n",
      "\u001b[34m\u001b[1mwandb\u001b[0m: Currently logged in as: \u001b[33mrahulsm-27\u001b[0m. Use \u001b[1m`wandb login --relogin`\u001b[0m to force relogin\n",
      "\u001b[34m\u001b[1mwandb\u001b[0m: \u001b[33mWARNING\u001b[0m If you're specifying your api key in code, ensure this code is not shared publicly.\n",
      "\u001b[34m\u001b[1mwandb\u001b[0m: \u001b[33mWARNING\u001b[0m Consider setting the WANDB_API_KEY environment variable, or running `wandb login` from the command line.\n",
      "\u001b[34m\u001b[1mwandb\u001b[0m: Appending key for api.wandb.ai to your netrc file: /Users/rahulmahajan/.netrc\n"
     ]
    },
    {
     "data": {
      "text/plain": [
       "True"
      ]
     },
     "execution_count": 5,
     "metadata": {},
     "output_type": "execute_result"
    }
   ],
   "source": [
    "import wandb\n",
    "wandb.login(key='2290f8de6f8ae3c7391ad9cb96f5a7b9fd780daf')"
   ]
  },
  {
   "cell_type": "code",
   "execution_count": 6,
   "metadata": {},
   "outputs": [],
   "source": [
    "%%capture\n",
    "experiment_name = wandb.util.generate_id()\n",
    "myrun = wandb.init(\n",
    "    project = 'wgan',\n",
    "    group = experiment_name,\n",
    "    config={\"optimzier\":\"adam\", \"model\":\"wgan_gp\"}\n",
    "\n",
    ")\n",
    "\n",
    "config = wandb.config\n",
    "\n"
   ]
  },
  {
   "cell_type": "code",
   "execution_count": 7,
   "metadata": {},
   "outputs": [
    {
     "name": "stdout",
     "output_type": "stream",
     "text": [
      "zlx7c5p7\n"
     ]
    }
   ],
   "source": [
    "print(experiment_name)"
   ]
  },
  {
   "cell_type": "code",
   "execution_count": 8,
   "metadata": {},
   "outputs": [],
   "source": [
    "# Generator\n",
    "\n",
    "# Crtic\n",
    "\n",
    "class Generator(nn.Module):\n",
    "    def __init__(self,z_dim=64,d_dim=16):\n",
    "        super(Generator,self).__init__()\n",
    "        self.z_dim = z_dim\n",
    "        # we begin with 1*1 image with z_dim number of shcannels\n",
    "        self.gen = nn.Sequential(\n",
    "            nn.ConvTranspose2d(z_dim,d_dim*32,4,1,0), ## 4 * 4 (ch : 200,512)\n",
    "            nn.BatchNorm2d(d_dim*32 ) ,\n",
    "            nn.RelU(True),\n",
    "\n",
    "\n",
    "            nn.ConvTranspose2d(d_dim*32,d_dim*16,4,1,0), ## 8*8\n",
    "            nn.BatchNorm2d(d_dim*32 ) ,\n",
    "            nn.RelU(True),\n",
    "\n",
    "\n",
    "            nn.ConvTranspose2d(d_dim*16,d_dim*8,4,1,0), ## 16*16\n",
    "            nn.BatchNorm2d(d_dim*32 ) ,\n",
    "            nn.RelU(True),\n",
    "\n",
    "\n",
    "            nn.ConvTranspose2d(d_dim*8,d_dim*4,4,1,0), ## 32*32\n",
    "            nn.BatchNorm2d(d_dim*32 ) ,\n",
    "            nn.RelU(True),\n",
    "\n",
    "            nn.ConvTranspose2d(d_dim*4,d_dim*2,4,1,0), ## 64*64\n",
    "            nn.BatchNorm2d(d_dim*32 ) ,\n",
    "            nn.RelU(True),\n",
    "\n",
    "            nn.ConvTranspose2d(d_dim*2,3,4,1,0), ## 128*128\n",
    "            nn.Tanh(),\n",
    "                                \n",
    "                                 \n",
    "                                 )\n",
    "        \n",
    "\n",
    "    def forward(self, noise):\n",
    "        x = noise.view(len(noise), self.z_dim , 1 , 1)\n",
    "        return self.gen(x)    \n",
    "    \n",
    "\n",
    "    def gen_noise(num,z_dim, device='cuda'):\n",
    "        return torch.randn(num,z_dim,device=device)\n",
    "\n"
   ]
  },
  {
   "cell_type": "code",
   "execution_count": null,
   "metadata": {},
   "outputs": [],
   "source": []
  }
 ],
 "metadata": {
  "kernelspec": {
   "display_name": "Python 3",
   "language": "python",
   "name": "python3"
  },
  "language_info": {
   "codemirror_mode": {
    "name": "ipython",
    "version": 3
   },
   "file_extension": ".py",
   "mimetype": "text/x-python",
   "name": "python",
   "nbconvert_exporter": "python",
   "pygments_lexer": "ipython3",
   "version": "3.11.3"
  },
  "orig_nbformat": 4
 },
 "nbformat": 4,
 "nbformat_minor": 2
}
