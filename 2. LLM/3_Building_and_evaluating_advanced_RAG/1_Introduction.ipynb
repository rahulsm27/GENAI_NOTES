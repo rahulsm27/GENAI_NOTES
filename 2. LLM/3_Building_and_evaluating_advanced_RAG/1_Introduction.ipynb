{
 "cells": [
  {
   "cell_type": "code",
   "execution_count": null,
   "metadata": {},
   "outputs": [],
   "source": [
    "\"\"\"\n",
    "# Basic and advacned RAG pipeline\n",
    "    Sentence-window retrieval\n",
    "\n",
    "    Auto merging retrieval\n",
    "# Evaluation of RAG pipeline\n",
    "\n",
    "\"\"\""
   ]
  }
 ],
 "metadata": {
  "language_info": {
   "name": "python"
  },
  "orig_nbformat": 4
 },
 "nbformat": 4,
 "nbformat_minor": 2
}
