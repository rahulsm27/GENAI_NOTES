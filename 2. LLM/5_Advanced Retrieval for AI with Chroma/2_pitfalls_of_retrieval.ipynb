{
 "cells": [
  {
   "cell_type": "code",
   "execution_count": null,
   "metadata": {},
   "outputs": [],
   "source": [
    "# When simple vector search fails\n"
   ]
  },
  {
   "cell_type": "code",
   "execution_count": null,
   "metadata": {},
   "outputs": [],
   "source": [
    "# pca tsne umap -> for projection and mapping high dimension to low dimension"
   ]
  },
  {
   "cell_type": "code",
   "execution_count": null,
   "metadata": {},
   "outputs": [],
   "source": [
    "\"\"\"\n",
    "# Relavancy and distractor\n",
    "\n",
    "So it's very important to make your retrieval system robust and \n",
    "return relevant results and no distracting results to the model.  \n",
    "\n",
    "So a distractor is a result that is not actually relevant to the query, \n",
    "and it's called a distractor because if you pass this \n",
    "information to the large language model to complete \n",
    "your RAG loop, the model tends to get distracted by \n",
    "this information and output suboptimal results. And \n",
    "the reason this is really important is that \n",
    "bad behavior from the model due to distractor\n",
    "\n",
    "it's very important to make your retrieval system robust and \n",
    "return relevant results and no distracting results to the model. \n",
    "\n",
    "But remember, if we're using a retrieval system as \n",
    "part of a RAG loop, you're guaranteed to return the nearest neighbors. In \n",
    "this case, your context window is going to \n",
    "be made up entirely of distractors, which as \n",
    "\n",
    "\"\"\""
   ]
  }
 ],
 "metadata": {
  "language_info": {
   "name": "python"
  },
  "orig_nbformat": 4
 },
 "nbformat": 4,
 "nbformat_minor": 2
}
