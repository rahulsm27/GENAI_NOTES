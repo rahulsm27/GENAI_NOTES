{
 "cells": [
  {
   "cell_type": "code",
   "execution_count": null,
   "metadata": {},
   "outputs": [],
   "source": [
    "\"\"\"\n",
    "we can use user \n",
    "feedback about the relevancy of retrieved \n",
    "results to automatically improve the performance \n",
    "of the retrieval system using a \n",
    "technique called embedding adapters. \n",
    "\n",
    "Embedding adapters are a way to alter the \n",
    "embedding of a query directly in order to \n",
    "produce better retrieval results. In effect, we insert an \n",
    "additional stage in the retrieval system \n",
    "called an embedding adapter, which happens after \n",
    "the embedding model, but before we retrieve \n",
    "the most relevant results. \n",
    "We train the embedding adapter using user feedback \n",
    "on the relevancy of our retrieved results for \n",
    "a set of queries. \n",
    "\n",
    "\n",
    "et the retrieved documents associated \n",
    "with the results. \n",
    "And what we're going to do is also ask the model (replaced here for expert)\n",
    "to evaluate the results. In a real RAG system, you \n",
    "can easily ask your users to give a thumbs up or thumbs \n",
    "down on the generated output, and then reference that with the retrieved \n",
    "results\n",
    "\n",
    "So we're going to ask our helpful expert financial assistant to \n",
    "tell us whether a given statement is relevant to the given query. \n",
    "\n",
    "we're going to start making a dataset to train \n",
    "our embedding adapter. \n",
    "And the way we're going to do it is like this. \n",
    "We're going to have our adapter query embeddings, adapter \n",
    "doc embeddings, and our adapter labels. \n",
    "\n",
    "train embedding function to maximize difference between querry embeddigns and doc embeddings if labels are -ve minizme difference if lable positive\n",
    "\n",
    "\"\"\"\n"
   ]
  },
  {
   "cell_type": "markdown",
   "metadata": {},
   "source": [
    "![Alt text](image-10.png)"
   ]
  },
  {
   "cell_type": "markdown",
   "metadata": {},
   "source": []
  }
 ],
 "metadata": {
  "language_info": {
   "name": "python"
  },
  "orig_nbformat": 4
 },
 "nbformat": 4,
 "nbformat_minor": 2
}
