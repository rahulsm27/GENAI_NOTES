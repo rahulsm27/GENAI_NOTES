{
 "cells": [
  {
   "cell_type": "code",
   "execution_count": null,
   "metadata": {},
   "outputs": [],
   "source": [
    "# A key component of RAG is vector database\n",
    "\n",
    "\"\"\"\n",
    "They have long been a broad part of semantic search applications. These are applications that \n",
    "search on the meaning of words or phrases rather \n",
    "than keyword search that looks for exact matches, as well as in recommender systems where they've been used to find related items to recommend to a user. \n",
    "\n",
    "decide when to apply \n",
    "sparse search such as  keyword search or \n",
    "dense search, which is what you \n",
    "get with vector similarities, or \n",
    "hybrid search \n",
    "which combines both sparse and dense search. \n",
    "\n",
    "\"\"\""
   ]
  },
  {
   "cell_type": "markdown",
   "metadata": {},
   "source": [
    "![Alt text](image.png)"
   ]
  },
  {
   "cell_type": "markdown",
   "metadata": {},
   "source": []
  }
 ],
 "metadata": {
  "language_info": {
   "name": "python"
  },
  "orig_nbformat": 4
 },
 "nbformat": 4,
 "nbformat_minor": 2
}
