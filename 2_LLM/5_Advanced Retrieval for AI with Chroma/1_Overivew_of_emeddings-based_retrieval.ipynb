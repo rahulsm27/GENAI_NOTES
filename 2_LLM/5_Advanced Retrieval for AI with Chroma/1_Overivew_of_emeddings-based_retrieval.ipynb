{
 "cells": [
  {
   "cell_type": "code",
   "execution_count": null,
   "metadata": {},
   "outputs": [],
   "source": [
    "# Review of RAG"
   ]
  },
  {
   "cell_type": "markdown",
   "metadata": {},
   "source": [
    "![Alt text](image.png)"
   ]
  },
  {
   "cell_type": "code",
   "execution_count": null,
   "metadata": {},
   "outputs": [],
   "source": [
    "# embedding model context window size should be taken into account while doing chunking"
   ]
  },
  {
   "cell_type": "code",
   "execution_count": null,
   "metadata": {},
   "outputs": [],
   "source": [
    "\"\"\"\n",
    "The BERT architecture embeds each token individually. \n",
    "So here we have the class fire instruction \n",
    "token and then I like dogs. Each token receives its \n",
    "own dense vector embedding. What a Sentence Transformer does is \n",
    "allow you to embed entire sentences or even small documents like we \n",
    "have here by pooling the output of all the token embeddings to \n",
    "produce a single dense vector per document or in our case, per chunk. \n",
    "Sentence transformers are great as an embedding model. They're \n",
    "open source, all the weights are available online, and \n",
    "they're really easy to run locally. They come \n",
    "built into Chrom\n",
    "\"\"\""
   ]
  },
  {
   "cell_type": "markdown",
   "metadata": {},
   "source": [
    "![Alt text](image-1.png)"
   ]
  },
  {
   "cell_type": "code",
   "execution_count": null,
   "metadata": {},
   "outputs": [],
   "source": []
  },
  {
   "cell_type": "markdown",
   "metadata": {},
   "source": []
  }
 ],
 "metadata": {
  "language_info": {
   "name": "python"
  },
  "orig_nbformat": 4
 },
 "nbformat": 4,
 "nbformat_minor": 2
}
