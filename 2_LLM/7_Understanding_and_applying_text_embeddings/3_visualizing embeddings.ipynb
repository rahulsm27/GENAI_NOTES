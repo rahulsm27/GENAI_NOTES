{
 "cells": [
  {
   "cell_type": "code",
   "execution_count": null,
   "metadata": {},
   "outputs": [],
   "source": [
    "# using pca for embeddings"
   ]
  },
  {
   "cell_type": "markdown",
   "metadata": {},
   "source": [
    "![Alt text](image-6.png)"
   ]
  },
  {
   "cell_type": "markdown",
   "metadata": {},
   "source": [
    "![Alt text](image-7.png)"
   ]
  },
  {
   "cell_type": "code",
   "execution_count": null,
   "metadata": {},
   "outputs": [],
   "source": [
    "# use heatmap for visualizing embeddings\n",
    "\n",
    "# tecnichally not correct..axis are subject to rotation..informal way..practically less useful\n",
    "\n",
    "\"\"\"\n",
    "#But it turns out that the axes used to define an embedding is relatively arbitrary and is subject to random rotation. And that's why, whereas finding pairwise similarity between embeddings is a pretty robust and sound operation, if you were to look at, say, the first component of an embedding and visualize that by looking at the number of heatmap,\n",
    "that first number is very difficult to ascribe a specific meaning to it which is why we can look at this as an informal visualization to build intuition about embeddings, but for practical things, I find it less \n",
    "useful to look at the outputs of the embeddings a single component \n",
    "\"\"\""
   ]
  },
  {
   "cell_type": "markdown",
   "metadata": {},
   "source": [
    "![Alt text](image-8.png)"
   ]
  },
  {
   "cell_type": "markdown",
   "metadata": {},
   "source": []
  }
 ],
 "metadata": {
  "language_info": {
   "name": "python"
  },
  "orig_nbformat": 4
 },
 "nbformat": 4,
 "nbformat_minor": 2
}
